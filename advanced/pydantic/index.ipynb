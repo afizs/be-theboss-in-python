{
 "cells": [
  {
   "cell_type": "markdown",
   "metadata": {},
   "source": [
    "### Basic Example"
   ]
  },
  {
   "cell_type": "code",
   "execution_count": 1,
   "metadata": {},
   "outputs": [
    {
     "name": "stdout",
     "output_type": "stream",
     "text": [
      "name='Afiz' email='afiz@gmail.com' account_id=1234\n"
     ]
    }
   ],
   "source": [
    "from pydantic import BaseModel, field_validator\n",
    "\n",
    "class User(BaseModel):\n",
    "    name: str\n",
    "    email: str\n",
    "    account_id: int\n",
    "\n",
    "    @field_validator('account_id')\n",
    "    def validate_account_id(cls, value):\n",
    "        if value <= 0:\n",
    "            raise ValueError(f'account_id must be postive: {value}')\n",
    "        return value\n",
    "\n",
    "user = User(name='Afiz', email='afiz@gmail.com', account_id=1234)\n",
    "print(user)"
   ]
  },
  {
   "cell_type": "markdown",
   "metadata": {},
   "source": [
    "### JSON"
   ]
  },
  {
   "cell_type": "code",
   "execution_count": 3,
   "metadata": {},
   "outputs": [],
   "source": [
    "user_json_str = user.json()"
   ]
  },
  {
   "cell_type": "code",
   "execution_count": 6,
   "metadata": {},
   "outputs": [
    {
     "name": "stdout",
     "output_type": "stream",
     "text": [
      "<class 'str'>\n",
      "{\"name\":\"Afiz\",\"email\":\"afiz@gmail.com\",\"account_id\":1234}\n"
     ]
    }
   ],
   "source": [
    "print(type(user_json_str))\n",
    "print(user_json_str)"
   ]
  },
  {
   "cell_type": "code",
   "execution_count": 7,
   "metadata": {},
   "outputs": [
    {
     "data": {
      "text/plain": [
       "{'name': 'Afiz', 'email': 'afiz@gmail.com', 'account_id': 1234}"
      ]
     },
     "execution_count": 7,
     "metadata": {},
     "output_type": "execute_result"
    }
   ],
   "source": [
    "# Python Dict\n",
    "\n",
    "user.dict()"
   ]
  },
  {
   "cell_type": "code",
   "execution_count": 8,
   "metadata": {},
   "outputs": [
    {
     "data": {
      "text/plain": [
       "User(name='Afiz', email='afiz@gmail.com', account_id=1234)"
      ]
     },
     "execution_count": 8,
     "metadata": {},
     "output_type": "execute_result"
    }
   ],
   "source": [
    "User.parse_raw(user_json_str)"
   ]
  },
  {
   "cell_type": "code",
   "execution_count": null,
   "metadata": {},
   "outputs": [],
   "source": []
  }
 ],
 "metadata": {
  "language_info": {
   "name": "python"
  }
 },
 "nbformat": 4,
 "nbformat_minor": 2
}
